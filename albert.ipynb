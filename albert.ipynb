{
 "cells": [
  {
   "cell_type": "code",
   "execution_count": null,
   "id": "05811f93",
   "metadata": {
    "vscode": {
     "languageId": "julia"
    }
   },
   "outputs": [],
   "source": [
    "import torch"
   ]
  },
  {
   "cell_type": "code",
   "execution_count": 23,
   "id": "a797d09f",
   "metadata": {},
   "outputs": [],
   "source": [
    "def compute_correlations(hidden_states):\n",
    "    corrs = [];\n",
    "    for hs in hidden_states:\n",
    "        T = hs.squeeze(0).clone().detach().requires_grad_(False);\n",
    "        T = torch.nn.functional.normalize(T, dim=1);\n",
    "        T2 = torch.matmul(T, T.transpose(0,1));\n",
    "        corrs += [T2.flatten().cpu(),];\n",
    "    return corrs;"
   ]
  },
  {
   "cell_type": "code",
   "execution_count": 28,
   "id": "4d86e251",
   "metadata": {},
   "outputs": [],
   "source": [
    "from datasets import load_dataset\n",
    "\n",
    "wikitext = load_dataset(\"wikitext\", 'wikitext-103-v1')"
   ]
  },
  {
   "cell_type": "code",
   "execution_count": 30,
   "id": "32ab7887",
   "metadata": {},
   "outputs": [],
   "source": [
    "def get_random_input(dataset, tokenizer):\n",
    "    l = len(dataset['train']);\n",
    "    while True:\n",
    "        it = torch.randint(l,(1,)).item();\n",
    "        text = dataset['train'][it]['text'];\n",
    "        ei = tokenizer(text, return_tensors='pt', truncation=True);\n",
    "        if (ei['input_ids'].shape[1]>300):\n",
    "            break;\n",
    "    return ei"
   ]
  },
  {
   "cell_type": "code",
   "execution_count": 34,
   "id": "35b6d06b",
   "metadata": {},
   "outputs": [],
   "source": [
    "from transformers import AlbertTokenizer, AlbertModel\n",
    "al_tkz = AlbertTokenizer.from_pretrained('albert-xlarge-v2')\n",
    "al_model = AlbertModel.from_pretrained(\"albert-xlarge-v2\")\n",
    "import matplotlib.pyplot as plt"
   ]
  },
  {
   "cell_type": "code",
   "execution_count": 35,
   "id": "78563130",
   "metadata": {},
   "outputs": [],
   "source": [
    "def plot_histograms(al_tkz = al_tkz, al_model = al_model):\n",
    "    \n",
    "    ei = get_random_input(wikitext, al_tkz); print(al_tkz.batch_decode(ei['input_ids']));\n",
    "    of = al_model(**ei, output_hidden_states=True)\n",
    "    correls = compute_correlations(of['hidden_states']);\n",
    "    \n",
    "    if al_model.config.num_hidden_layers < 25:\n",
    "        fig, axes = plt.subplots(5,5);\n",
    "    \n",
    "    else:\n",
    "        fig, axes = plt.subplots(7,7);\n",
    "    axes = axes.flatten();\n",
    "\n",
    "    for i in range(len(correls)):\n",
    "        axes[i].hist(correls[i], bins=100, density=True, histtype='step');\n",
    "        axes[i].set_title(f'Layer {i}');\n",
    "        axes[i].set_xlim(-.3, 1)"
   ]
  },
  {
   "cell_type": "code",
   "execution_count": 36,
   "id": "0ada2d49",
   "metadata": {},
   "outputs": [],
   "source": [
    "def plot_histograms_new(al_tkz = al_tkz, al_model = al_model, step=1):\n",
    "   \n",
    "    ei = get_random_input(wikitext, al_tkz); print(al_tkz.batch_decode(ei['input_ids']));\n",
    "    of = al_model(**ei, output_hidden_states=True)\n",
    "    correls = compute_correlations(of['hidden_states']);\n",
    "    \n",
    "    nr_plots = (al_model.config.num_hidden_layers+1) // step;\n",
    "    if al_model.config.num_hidden_layers < 25:\n",
    "        cols = 5;\n",
    "        fig, axes = plt.subplots(5,5);\n",
    "    \n",
    "    else:\n",
    "        fig, axes = plt.subplots(7,7);\n",
    "    \n",
    "    axes = axes.flatten();\n",
    "    for i in range(len(correls)):\n",
    "        axes[i].hist(correls[i],bins=100, density=True, histtype='step');\n",
    "        axes[i].set_title(f'Layer {i}');\n",
    "        axes[i].set_xlim(-.3,1)"
   ]
  },
  {
   "cell_type": "code",
   "execution_count": 80,
   "id": "f98af173",
   "metadata": {},
   "outputs": [],
   "source": [
    "import matplotlib.pyplot as plt\n",
    "import os\n",
    "import numpy as np\n",
    "\n",
    "def plot_histograms_save(al_tkz = al_tkz, al_model = al_model):\n",
    "    ei = get_random_input(wikitext, al_tkz); \n",
    "    print(al_tkz.batch_decode(ei['input_ids']));\n",
    "    of = al_model(**ei, output_hidden_states=True)\n",
    "    correls = compute_correlations(of['hidden_states'])\n",
    "    \n",
    "    # Create a directory to save the plots\n",
    "    os.makedirs('histograms', exist_ok=True)\n",
    "\n",
    "    # Determine the global maximum density value\n",
    "    max_density = 0\n",
    "    for data in correls:\n",
    "        counts, bin_edges = np.histogram(data, bins=100, density=True)\n",
    "        max_density = max(max_density, max(counts))\n",
    "\n",
    "    for i, data in enumerate(correls):\n",
    "        IQR = np.percentile(data, 75) - np.percentile(data, 25)\n",
    "        n = len(data)\n",
    "        bin_width = 2 * IQR / n ** (1/3)\n",
    "        bins = int((max(data) - min(data)) / bin_width)\n",
    "\n",
    "        plt.figure()\n",
    "        plt.hist(data, bins=bins, density=True, histtype='step', color='#3658bf', linewidth=1.5)\n",
    "        plt.title(f'Layer {i}', fontsize=16)\n",
    "        plt.xlim(-.3, 1.05)\n",
    "        plt.ylim(0, max_density)  # Set a consistent y-axis limit\n",
    "        \n",
    "        \n",
    "        plt.savefig(f'histogram_layer_{i}.pdf')\n",
    "        plt.close()"
   ]
  },
  {
   "cell_type": "code",
   "execution_count": 77,
   "id": "17347be6",
   "metadata": {},
   "outputs": [
    {
     "name": "stdout",
     "output_type": "stream",
     "text": [
      "['[CLS] more influential than the 707 in the 698\\'s design was wind <unk> -<unk> tunnel testing performed by the royal aircraft establishment at farnborough, which indicated the need for a wing redesign to avoid the onset of compressibility drag which would have restricted the maximum speed. painted gloss white, the 698 prototype vx770 flew for the first time on 30 august 1952 piloted by roly falk flying solo. the prototype 698, then fitted with only the first <unk> -<unk> pilot\\'s ejection seat and a conventional control wheel, was powered by four rolls <unk> -<unk> royce<unk> avon engines of 6 <unk>,<unk> 500 lbf ( 29 kn ) thrust ; there were no wing fuel tanks, temporary tankage was carried in the bomb bay. vx770 made an appearance at the 1952 society of british aircraft constructors\\'( sbac ) farnborough air show the next month when falk demonstrated an \" almost vertical bank \". after its farnborough appearance, the future name of the avro 698 was a subject of speculation ; avro had strongly recommended the name ottawa, in honour of the company\\'s connection with avro canada. weekly magazine flight suggested albion after rejecting avenger, apollo and<unk>. the chief of the air staff preferred a v <unk> -<unk> class of bombers, the air council announced the following month that the 698 would be called vulcan after the roman god of fire and destruction. in january 1953, vx770 was grounded for the installation of wing fuel tanks, armstrong siddeley<unk> sapphire engines of 7 <unk>,<unk> 500 lbf ( 33 kn ) thrust and other systems ; it flew again in july 1953.[SEP]']\n"
     ]
    }
   ],
   "source": [
    "plot_histograms_save()"
   ]
  },
  {
   "cell_type": "code",
   "execution_count": 40,
   "id": "687edbb7",
   "metadata": {},
   "outputs": [
    {
     "data": {
      "text/plain": [
       "AlbertConfig {\n",
       "  \"_name_or_path\": \"albert-xlarge-v2\",\n",
       "  \"architectures\": [\n",
       "    \"AlbertForMaskedLM\"\n",
       "  ],\n",
       "  \"attention_probs_dropout_prob\": 0,\n",
       "  \"bos_token_id\": 2,\n",
       "  \"classifier_dropout_prob\": 0.1,\n",
       "  \"down_scale_factor\": 1,\n",
       "  \"embedding_size\": 128,\n",
       "  \"eos_token_id\": 3,\n",
       "  \"gap_size\": 0,\n",
       "  \"hidden_act\": \"gelu_new\",\n",
       "  \"hidden_dropout_prob\": 0,\n",
       "  \"hidden_size\": 2048,\n",
       "  \"initializer_range\": 0.02,\n",
       "  \"inner_group_num\": 1,\n",
       "  \"intermediate_size\": 8192,\n",
       "  \"layer_norm_eps\": 1e-12,\n",
       "  \"max_position_embeddings\": 512,\n",
       "  \"model_type\": \"albert\",\n",
       "  \"net_structure_type\": 0,\n",
       "  \"num_attention_heads\": 16,\n",
       "  \"num_hidden_groups\": 1,\n",
       "  \"num_hidden_layers\": 24,\n",
       "  \"num_memory_blocks\": 0,\n",
       "  \"pad_token_id\": 0,\n",
       "  \"position_embedding_type\": \"absolute\",\n",
       "  \"transformers_version\": \"4.35.2\",\n",
       "  \"type_vocab_size\": 2,\n",
       "  \"vocab_size\": 30000\n",
       "}"
      ]
     },
     "execution_count": 40,
     "metadata": {},
     "output_type": "execute_result"
    }
   ],
   "source": [
    "al_model.config"
   ]
  },
  {
   "cell_type": "code",
   "execution_count": 41,
   "id": "8de372f2",
   "metadata": {
    "scrolled": true
   },
   "outputs": [
    {
     "name": "stdout",
     "output_type": "stream",
     "text": [
      "['[CLS] good girl gone bad received generally favorable reviews from music critics. at metacritic, which assigns a normalized rating out of 100 to reviews from mainstream critics, the album received an average score of 72 based on 16 reviews. uncut called it a \" shiny, trans <unk> -<unk> atlantic blend of europop vim, r & b grit and caribbean bounce. \" andy kellman of allmusic deemed it quintessential pop music and said each of its tracks was a potential hit. quentin b. huff of popmatters praised the album, describing it as \" more raw, perhaps edgier and more risque \" than rihanna\\'s previous material. kelefa sanneh of the new york times wrote that the album \" sounds as if it were scientifically engineered to deliver hits \". peter robinson of the observer commended her collaborators for \" masking her own shortcomings \" and commented that, \" while rihanna lacks her peers\\'charisma, she\\'s a great vessel for exhilarating mainstream pop. \" pitchfork media\\'s tom breihan found the album varied and satisfying. neil drumming of entertainment weekly felt that, although it \" goes bad when rihanna tries her hand at treacly ballads and glum sentiment \", at times good girl gone bad is a \" thrilling throwback to more than a decade ago, when upstart producers haphazardly mashed r & b with hip <unk> -<unk> hop to create chunky jeep anthems such as mary j. blige\\'s\\'real love \\'. \"[SEP]']\n"
     ]
    },
    {
     "data": {
      "text/plain": [
       "tensor([[0.0592, 0.4956, 0.4641, 0.4537, 0.4165, 0.4996, 0.4574, 0.4767, 0.4346,\n",
       "         0.4034, 0.4104, 0.4587, 0.4052, 0.3656, 0.4476, 0.5080, 0.3986, 0.4170,\n",
       "         0.4497, 0.4734, 0.3707, 0.4909, 0.4570, 0.4843, 0.5048, 0.4008, 0.4060,\n",
       "         0.4881, 0.4060, 0.4376, 0.4798, 0.5249, 0.4535, 0.4052, 0.2066, 0.3566,\n",
       "         0.4137, 0.5008, 0.4496, 0.5264, 0.4705, 0.3368, 0.5207, 0.5106, 0.4099,\n",
       "         0.5347, 0.4313, 0.3955, 0.2690, 0.4626, 0.4959, 0.4806, 0.3649, 0.3898,\n",
       "         0.3426, 0.5175, 0.5143, 0.4293, 0.3444, 0.4788, 0.4385, 0.4711, 0.4582,\n",
       "         0.4975, 0.4641, 0.4985, 0.3992, 0.3434, 0.4310, 0.4645, 0.4713, 0.4111,\n",
       "         0.3608, 0.4134, 0.4767, 0.4510, 0.4775, 0.4210, 0.5187, 0.4750, 0.3716,\n",
       "         0.3880, 0.4137, 0.4524, 0.4256, 0.4855, 0.4672, 0.4891, 0.4497, 0.4760,\n",
       "         0.4717, 0.3782, 0.4810, 0.5045, 0.3662, 0.4107, 0.3648, 0.4224, 0.4506,\n",
       "         0.3694, 0.3726, 0.4153, 0.3911, 0.3735, 0.5712, 0.4215, 0.3516, 0.1956,\n",
       "         0.4956, 0.5215, 0.3870, 0.4670, 0.4504, 0.3938, 0.5151, 0.4215, 0.4814,\n",
       "         0.3934, 0.4061, 0.4037, 0.4029, 0.4615, 0.3360, 0.3943, 0.3941, 0.5109,\n",
       "         0.4477, 0.4203, 0.4214, 0.4458, 0.6091, 0.4532, 0.4696, 0.5020, 0.3701,\n",
       "         0.4397, 0.3553, 0.4063, 0.4100, 0.3785, 0.4384, 0.4199, 0.4357, 0.4204,\n",
       "         0.4244, 0.3923, 0.4859, 0.4898, 0.3799, 0.3705, 0.4426, 0.4652, 0.4933,\n",
       "         0.3993, 0.4969, 0.4406, 0.3588, 0.4091, 0.3685, 0.4370, 0.4460, 0.4006,\n",
       "         0.3404, 0.3917, 0.3379, 0.5186, 0.4287, 0.3983, 0.3730, 0.3909, 0.4365,\n",
       "         0.4278, 0.4732, 0.4573, 0.4085, 0.4805, 0.4543, 0.4126, 0.4074, 0.3608,\n",
       "         0.1706, 0.4358, 0.4481, 0.3879, 0.3748, 0.4969, 0.5009, 0.4100, 0.4691,\n",
       "         0.3967, 0.3979, 0.3452, 0.5086, 0.4403, 0.4736, 0.4271, 0.5188, 0.5579,\n",
       "         0.3551, 0.2140, 0.3217, 0.4844, 0.3424, 0.3915, 0.3645, 0.3203, 0.5160,\n",
       "         0.4892, 0.4463, 0.4567, 0.3824, 0.4619, 0.4986, 0.4666, 0.4597, 0.4274,\n",
       "         0.4315, 0.4264, 0.3995, 0.4172, 0.3792, 0.4992, 0.3818, 0.4287, 0.3520,\n",
       "         0.4957, 0.4951, 0.4618, 0.4034, 0.4834, 0.4722, 0.4520, 0.4314, 0.3823,\n",
       "         0.3946, 0.4141, 0.4660, 0.4333, 0.4725, 0.4583, 0.4278, 0.4149, 0.5064,\n",
       "         0.4999, 0.3991, 0.4903, 0.4556, 0.3280, 0.4453, 0.5472, 0.4216, 0.5099,\n",
       "         0.4251, 0.1326, 0.4698, 0.4774, 0.4174, 0.4985, 0.5021, 0.4810, 0.3697,\n",
       "         0.4488, 0.3895, 0.4927, 0.3688, 0.3715, 0.5259, 0.5224, 0.5132, 0.4690,\n",
       "         0.4228, 0.4701, 0.3948, 0.4045, 0.3971, 0.4771, 0.4443, 0.5212, 0.4409,\n",
       "         0.3533, 0.4259, 0.4241, 0.4316, 0.4881, 0.4209, 0.4666, 0.3638, 0.3508,\n",
       "         0.4014, 0.4518, 0.4333, 0.4360, 0.4712, 0.4557, 0.3558, 0.3905, 0.3525,\n",
       "         0.5056, 0.4952, 0.4090, 0.4690, 0.4421, 0.3775, 0.4744, 0.4464, 0.3740,\n",
       "         0.4553, 0.4326, 0.4059, 0.1740, 0.4446, 0.4164, 0.4843, 0.4335, 0.3817,\n",
       "         0.3943, 0.4623, 0.3671, 0.3792, 0.4571, 0.4505, 0.4352, 0.5108, 0.4250,\n",
       "         0.3822, 0.4455, 0.4239, 0.4157, 0.4466, 0.4587, 0.4737, 0.3820, 0.4231,\n",
       "         0.4513, 0.4894, 0.5542, 0.4356, 0.4271, 0.4683, 0.3762, 0.4746, 0.4866,\n",
       "         0.3382, 0.3997, 0.4855, 0.4003, 0.4253, 0.3879, 0.3870, 0.3792, 0.4799,\n",
       "         0.5094, 0.4526, 0.3947, 0.4060, 0.3475, 0.1803, 0.4172, 0.4315, 0.2262]],\n",
       "       grad_fn=<VarBackward0>)"
      ]
     },
     "execution_count": 41,
     "metadata": {},
     "output_type": "execute_result"
    }
   ],
   "source": [
    "### Check norm of output tokens\n",
    "## The norm is not exactly the same because the LayerNorm \n",
    "## that is applied at the end also has trainable diagonal matrix \\gamma and  vector \\beta which are used as follows \n",
    "## (on each token)\n",
    "## \\tilde x = (x - mean(x))/sqrt(var(x)) * \\gamma + \\beta   (here token is a row vector)\n",
    "\n",
    "ei = get_random_input(wikitext, al_tkz); print(al_tkz.batch_decode(ei['input_ids']));\n",
    "of = al_model(**ei, output_hidden_states=True);\n",
    "of['hidden_states'][24].var(2)"
   ]
  },
  {
   "cell_type": "code",
   "execution_count": 78,
   "id": "417840d0",
   "metadata": {},
   "outputs": [
    {
     "name": "stdout",
     "output_type": "stream",
     "text": [
      "48\n"
     ]
    }
   ],
   "source": [
    "from transformers import AlbertConfig, AlbertModel\n",
    "\n",
    "alm2_config = AlbertConfig.from_pretrained(\"albert-xlarge-v2\", num_hidden_layers=48, num_attention_heads=1);\n",
    "almodel2 = AlbertModel.from_pretrained(\"albert-xlarge-v2\", config=alm2_config);\n",
    "print(almodel2.config.num_hidden_layers)"
   ]
  },
  {
   "cell_type": "code",
   "execution_count": 81,
   "id": "83b4afb8",
   "metadata": {},
   "outputs": [
    {
     "name": "stdout",
     "output_type": "stream",
     "text": [
      "[\"[CLS] on september 15, obama attended a philadelphia fundraising dinner for specter, an unusually public declaration of support so early in the primary season, when the president has the option of remaining neutral until the final outcome becomes clearer. governor rendell said that obama and biden felt obligated to strongly support specter because they so strongly lobbied him to switch parties. philadelphia mayor michael nutter and radio personality michael<unk> also spoke on specter's behalf. senate majority leader reid took the unusual steps of scheduling no senate votes that day so both specter and pennsylvania senator bob casey, jr. could attend the fundraiser. that move drew criticism from republicans, as well as from sestak, who felt specter was skirting his senate responsibilities, yet hypocritically criticizing sestak at the same time for missing more than 100 votes in the u.s. house. the event was expected to raise about $ 2 <unk>.<unk> 5 million, which was to be split between specter's campaign and the democratic senatorial campaign committee. after the fundraiser, obama and specter traveled via air force one to pittsburgh to address labor activists at the afl <unk> -<unk> cio convention. there, specter assured the audience he would support the employee free choice act, a proposed bill that would make union formation easier, which specter had previously opposed as a republican.[SEP]\"]\n"
     ]
    }
   ],
   "source": [
    "#%matplotlib inline\n",
    "plot_histograms_save(al_model=almodel2)\n",
    "#plot_histograms(al_model = almodel2)"
   ]
  },
  {
   "cell_type": "code",
   "execution_count": 50,
   "id": "3a89a759",
   "metadata": {},
   "outputs": [
    {
     "data": {
      "text/plain": [
       "(set(), 16, 2048, 2048)"
      ]
     },
     "execution_count": 50,
     "metadata": {},
     "output_type": "execute_result"
    }
   ],
   "source": [
    "# Decomposing AlbertModel\n",
    "al_transfo = al_model.encoder;\n",
    "al_layer = al_transfo.albert_layer_groups[0].albert_layers[0];\n",
    "al_attention = al_layer.attention; (al_attention.pruned_heads, al_attention.num_attention_heads, al_attention.all_head_size, al_attention.hidden_size)"
   ]
  },
  {
   "cell_type": "code",
   "execution_count": 51,
   "id": "3b3edac7",
   "metadata": {},
   "outputs": [
    {
     "name": "stdout",
     "output_type": "stream",
     "text": [
      "['[CLS] grunge is generally characterized by a sludgy guitar sound with a \" thick midrange \" and rolled <unk> -<unk> off treble tone and a high level of distortion and fuzz, typically created with small<unk> pedals, with some guitarists chaining several fuzz pedals together and plugging them into a tube amplifier. the use of pedals by grunge guitarists was a move away from the expensive, studio <unk> -<unk> grade<unk> effects units used in other rock genres. grunge guitarists played loud, with kurt cobain\\'s early guitar sound coming from an unusual set <unk> -<unk> up of four 800 watt pa system power amplifiers. guitar feedback effects were used. grunge guitarists were influenced by the raw, primitive sound of punk, and they favored \"... energy and lack of finesse over technique and precision \" ; key guitar influences included the sex pistols, the dead boys, neil young ( rust never sleeps, side two ), the replacements, husker du, black flag and the melvins. grunge guitarists often downtuned their instruments for a lower, heavier sound. grunge guitarists \" flatly rejected \" the<unk> \" shredding \" guitar solos that had become the centerpiece of heavy metal songs, instead opting for melodic, blues <unk> -<unk> inspired solos - focusing \"... on the song, not the guitar solo \" - with jerry cantrell of alice in chains stating that solos should be to serve the song, rather than to show off a guitarist\\'s technical skill. in place of the strutting guitar heroes of metal, grunge had \" guitar anti <unk> -<unk> heroes \" like cobain, who showed little interest in mastering the instrument.[SEP]']\n"
     ]
    }
   ],
   "source": [
    "ei = get_random_input(wikitext, al_tkz); print(al_tkz.batch_decode(ei['input_ids']));\n",
    "of = al_model(**ei, output_hidden_states=True);"
   ]
  },
  {
   "cell_type": "code",
   "execution_count": 52,
   "id": "f715c9e3",
   "metadata": {},
   "outputs": [
    {
     "data": {
      "text/plain": [
       "torch.Size([1, 413, 2048])"
      ]
     },
     "execution_count": 52,
     "metadata": {},
     "output_type": "execute_result"
    }
   ],
   "source": [
    "of['hidden_states'][2].shape"
   ]
  },
  {
   "cell_type": "code",
   "execution_count": 53,
   "id": "253842f1",
   "metadata": {},
   "outputs": [
    {
     "name": "stdout",
     "output_type": "stream",
     "text": [
      "torch.Size([1, 1, 2048])\n"
     ]
    }
   ],
   "source": [
    "test = torch.arange(2048).reshape(1,1,-1); print(test.shape); al_attention.transpose_for_scores(test).shape;"
   ]
  },
  {
   "cell_type": "code",
   "execution_count": 54,
   "id": "d74b48ab",
   "metadata": {},
   "outputs": [
    {
     "data": {
      "text/plain": [
       "tensor([128, 129, 130, 131, 132, 133, 134, 135, 136, 137, 138, 139, 140, 141,\n",
       "        142, 143, 144, 145, 146, 147, 148, 149, 150, 151, 152, 153, 154, 155,\n",
       "        156, 157, 158, 159, 160, 161, 162, 163, 164, 165, 166, 167, 168, 169,\n",
       "        170, 171, 172, 173, 174, 175, 176, 177, 178, 179, 180, 181, 182, 183,\n",
       "        184, 185, 186, 187, 188, 189, 190, 191, 192, 193, 194, 195, 196, 197,\n",
       "        198, 199, 200, 201, 202, 203, 204, 205, 206, 207, 208, 209, 210, 211,\n",
       "        212, 213, 214, 215, 216, 217, 218, 219, 220, 221, 222, 223, 224, 225,\n",
       "        226, 227, 228, 229, 230, 231, 232, 233, 234, 235, 236, 237, 238, 239,\n",
       "        240, 241, 242, 243, 244, 245, 246, 247, 248, 249, 250, 251, 252, 253,\n",
       "        254, 255])"
      ]
     },
     "execution_count": 54,
     "metadata": {},
     "output_type": "execute_result"
    }
   ],
   "source": [
    "al_attention.transpose_for_scores(test)[0,1,0,:]"
   ]
  },
  {
   "cell_type": "code",
   "execution_count": 55,
   "id": "bf827332",
   "metadata": {},
   "outputs": [
    {
     "data": {
      "text/plain": [
       "Parameter containing:\n",
       "tensor([[ 0.0182,  0.0070, -0.0499,  ...,  0.0107, -0.0472,  0.0081],\n",
       "        [-0.0077, -0.0219,  0.0191,  ...,  0.0136, -0.0058,  0.0144],\n",
       "        [-0.0141, -0.0141,  0.0194,  ...,  0.0275,  0.0075, -0.0503],\n",
       "        ...,\n",
       "        [ 0.0342,  0.0207,  0.0073,  ...,  0.0331, -0.0137,  0.0200],\n",
       "        [ 0.0521,  0.0029,  0.0261,  ...,  0.0122,  0.0592, -0.0423],\n",
       "        [ 0.0113,  0.0855, -0.0034,  ..., -0.0119,  0.0079, -0.0166]],\n",
       "       requires_grad=True)"
      ]
     },
     "execution_count": 55,
     "metadata": {},
     "output_type": "execute_result"
    }
   ],
   "source": [
    "al_attention.value.weight"
   ]
  }
 ],
 "metadata": {
  "kernelspec": {
   "display_name": "Python 3 (ipykernel)",
   "language": "python",
   "name": "python3"
  },
  "language_info": {
   "codemirror_mode": {
    "name": "ipython",
    "version": 3
   },
   "file_extension": ".py",
   "mimetype": "text/x-python",
   "name": "python",
   "nbconvert_exporter": "python",
   "pygments_lexer": "ipython3",
   "version": "3.11.3"
  }
 },
 "nbformat": 4,
 "nbformat_minor": 5
}
